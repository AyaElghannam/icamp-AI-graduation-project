{
 "cells": [
  {
   "cell_type": "code",
   "execution_count": 1,
   "metadata": {},
   "outputs": [],
   "source": [
    "from bvh import Bvh\n",
    "import numpy as np\n",
    "import copy"
   ]
  },
  {
   "cell_type": "code",
   "execution_count": 2,
   "metadata": {},
   "outputs": [],
   "source": [
    "def parse(*args):\n",
    "    sequence = []\n",
    "    for arg in args:\n",
    "        with open(arg) as f:\n",
    "            sequence.append(Bvh(f.read()))\n",
    "    return sequence"
   ]
  },
  {
   "cell_type": "code",
   "execution_count": 25,
   "metadata": {},
   "outputs": [],
   "source": [
    "sequence = parse(\"base_coord_.bvh\",\"hello_motion_coord.bvh\",\"hru_motion_coord.bvh\")"
   ]
  },
  {
   "cell_type": "code",
   "execution_count": 26,
   "metadata": {},
   "outputs": [],
   "source": [
    "# initalize the List of Motion With First Move\n",
    "tot = []\n",
    "tot = [i for i in sequence[0].frames]"
   ]
  },
  {
   "cell_type": "code",
   "execution_count": 27,
   "metadata": {},
   "outputs": [],
   "source": [
    "# Looping in Sequence and Calculate The Transition and append Next seq\n",
    "for x in range(len(sequence)-1):\n",
    "    transtion_frames=np.linspace(np.array(sequence[x].frames[-1],dtype=np.float) ,\n",
    "                                 np.array(sequence[x+1].frames[0],dtype=np.float32) ,\n",
    "                                 num=30 ,endpoint=False )\n",
    "    \n",
    "    for i in range (transtion_frames.shape[0]):\n",
    "        window = []\n",
    "        for j in transtion_frames[i]:\n",
    "            window.append(\"{:.6f}\".format(j))\n",
    "        tot.append(window)\n",
    "        \n",
    "    for i in sequence[x+1].frames:\n",
    "        tot.append(i)\n",
    "    "
   ]
  },
  {
   "cell_type": "code",
   "execution_count": 33,
   "metadata": {},
   "outputs": [],
   "source": [
    "temp = copy.deepcopy(sequence[0])"
   ]
  },
  {
   "cell_type": "code",
   "execution_count": 34,
   "metadata": {},
   "outputs": [],
   "source": [
    "temp.setFrames(tot)"
   ]
  },
  {
   "cell_type": "code",
   "execution_count": 35,
   "metadata": {},
   "outputs": [],
   "source": [
    "temp.save('test_tt.bvh')"
   ]
  },
  {
   "cell_type": "code",
   "execution_count": null,
   "metadata": {},
   "outputs": [],
   "source": []
  }
 ],
 "metadata": {
  "interpreter": {
   "hash": "b0ab8c99b4bfaa44da2c5b935dbf33e7e1f6d7633e1a18625ce6d59279f815e1"
  },
  "kernelspec": {
   "display_name": "Python base",
   "language": "python",
   "name": "base"
  },
  "language_info": {
   "codemirror_mode": {
    "name": "ipython",
    "version": 3
   },
   "file_extension": ".py",
   "mimetype": "text/x-python",
   "name": "python",
   "nbconvert_exporter": "python",
   "pygments_lexer": "ipython3",
   "version": "3.7.4"
  }
 },
 "nbformat": 4,
 "nbformat_minor": 4
}
