{
 "cells": [
  {
   "cell_type": "code",
   "execution_count": 1,
   "metadata": {},
   "outputs": [],
   "source": [
    "import cv2\n",
    "import numpy as np\n",
    "import glob\n",
    "import os"
   ]
  },
  {
   "cell_type": "code",
   "execution_count": 15,
   "metadata": {},
   "outputs": [],
   "source": [
    "no_seq = 30\n",
    "frames = 60"
   ]
  },
  {
   "cell_type": "code",
   "execution_count": null,
   "metadata": {},
   "outputs": [],
   "source": [
    "DATA_PATH = os.path.join('Dataset') \n",
    "actions = np.array(['Brother',\n",
    " 'Egypt',\n",
    " 'Father',\n",
    " 'How are you',\n",
    " 'Mother',\n",
    " 'Sister',])\n"
   ]
  },
  {
   "cell_type": "code",
   "execution_count": null,
   "metadata": {},
   "outputs": [],
   "source": [
    "# Create DataPaths for Videos\n",
    "for action in actions: \n",
    "    for sequence in range(0,no_seq):\n",
    "        try: \n",
    "            os.makedirs(os.path.join(DATA_PATH, action))\n",
    "        except:\n",
    "            pass"
   ]
  },
  {
   "cell_type": "code",
   "execution_count": 126,
   "metadata": {},
   "outputs": [],
   "source": [
    "## Code\n",
    "for label in actions:\n",
    "    for vid_no in range(30):\n",
    "        # get all Filenames of Frames\n",
    "        path = '/'.join([label,str(vid_no),'*.jpg'])\n",
    "        files = sorted(glob.glob(path), key= lambda x : int(x.split(\"\\\\\")[1][:-4]) )\n",
    "        \n",
    "        # load all Frame in This Array\n",
    "        img_array = []\n",
    "        for filename in files:\n",
    "            img = cv2.imread(filename)\n",
    "            height, width, layers = img.shape\n",
    "            size = (width,height)\n",
    "            img_array.append(img)\n",
    "        #Output Path\n",
    "        vid_path = '/'.join(['./Dataset',label,str(vid_no)+'.mp4'])\n",
    "        out = cv2.VideoWriter(vid_path,cv2.VideoWriter_fourcc(*'DIVX'), 30, size)\n",
    "         \n",
    "        # Write Video\n",
    "        for i in range(len(img_array)):\n",
    "            out.write(img_array[i])\n",
    "        out.release()\n",
    "        \n",
    "    \n"
   ]
  }
 ],
 "metadata": {
  "kernelspec": {
   "display_name": "Python 3.8",
   "language": "python",
   "name": "tf2"
  },
  "language_info": {
   "codemirror_mode": {
    "name": "ipython",
    "version": 3
   },
   "file_extension": ".py",
   "mimetype": "text/x-python",
   "name": "python",
   "nbconvert_exporter": "python",
   "pygments_lexer": "ipython3",
   "version": "3.8.5"
  }
 },
 "nbformat": 4,
 "nbformat_minor": 4
}
