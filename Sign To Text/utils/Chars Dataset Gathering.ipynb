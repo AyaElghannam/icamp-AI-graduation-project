{
 "cells": [
  {
   "cell_type": "code",
   "execution_count": 53,
   "metadata": {},
   "outputs": [],
   "source": [
    "# Note\n",
    "# Save The Images by z Right Hand "
   ]
  },
  {
   "cell_type": "code",
   "execution_count": 1,
   "metadata": {},
   "outputs": [],
   "source": [
    "import cv2\n",
    "import numpy as np\n",
    "import glob\n",
    "import os , cvzone\n",
    "from cvzone.HandTrackingModule import HandDetector\n",
    "import copy"
   ]
  },
  {
   "cell_type": "code",
   "execution_count": 2,
   "metadata": {},
   "outputs": [],
   "source": [
    "DATA_PATH = os.path.join('Characters_Dataset') "
   ]
  },
  {
   "cell_type": "code",
   "execution_count": 3,
   "metadata": {},
   "outputs": [],
   "source": [
    "classes = [ 'aleff',  'bb', 'ta', 'thaa', 'jeem', 'haa', 'khaa', 'dal', 'thal', 'ra', \\\n",
    "         'zay' , 'seen', 'sheen',  'saad', 'dhad','taa', 'dha', 'ain', 'ghain','fa', \\\n",
    "          'gaaf', 'kaaf','laam', 'meem', 'nun', 'ha', 'waw','ya']"
   ]
  },
  {
   "cell_type": "code",
   "execution_count": 4,
   "metadata": {},
   "outputs": [
    {
     "data": {
      "text/plain": [
       "28"
      ]
     },
     "execution_count": 4,
     "metadata": {},
     "output_type": "execute_result"
    }
   ],
   "source": [
    "len(classes)"
   ]
  },
  {
   "cell_type": "code",
   "execution_count": 5,
   "metadata": {},
   "outputs": [],
   "source": [
    "# Create DataPaths for Images\n",
    "for _class in classes: \n",
    "    try: \n",
    "        os.makedirs(os.path.join(DATA_PATH, _class))\n",
    "    except:\n",
    "        pass"
   ]
  },
  {
   "cell_type": "code",
   "execution_count": 6,
   "metadata": {},
   "outputs": [],
   "source": [
    "# Helper Function To Crop Hand From Image\n",
    "def Crop_Hands(image,hands):\n",
    "    margin = 20\n",
    "    img_cropped =None\n",
    "\n",
    "    if(len(hands)>0 and hands[0]['type'] == 'Right'):\n",
    "        bbox = hands[0]['bbox']\n",
    "        if(len(hands)>1 and hands[1]['type'] == 'Right'):\n",
    "            bbox = hands[1]['bbox']\n",
    "        \n",
    "        pt1,pt2 = (bbox[0] - 20, bbox[1] - 20), (bbox[0] + bbox[2] + 20, bbox[1] + bbox[3] + 20)\n",
    "        img_cropped = image[bbox[1] - 20:bbox[1] + bbox[3] + 20,bbox[0] - 20:bbox[0] + bbox[2] + 20]\n",
    "        if(len(img_cropped)):\n",
    "            return img_cropped\n",
    "\n",
    "    return []\n"
   ]
  },
  {
   "cell_type": "code",
   "execution_count": 7,
   "metadata": {},
   "outputs": [],
   "source": [
    "# Number of Frames for Each Character \n",
    "frames = 100"
   ]
  },
  {
   "cell_type": "code",
   "execution_count": 21,
   "metadata": {},
   "outputs": [],
   "source": [
    "classes = ['kaaf']"
   ]
  },
  {
   "cell_type": "code",
   "execution_count": 22,
   "metadata": {},
   "outputs": [
    {
     "name": "stdout",
     "output_type": "stream",
     "text": [
      "kaaf\n"
     ]
    }
   ],
   "source": [
    "detector = HandDetector(mode=False, maxHands=2, detectionCon=.8, minTrackCon=.7)\n",
    "cap = cv2.VideoCapture(0)   \n",
    "\n",
    "for _class in classes:\n",
    "    Record= False\n",
    "\n",
    "    # Wait Between Each Character\n",
    "    cv2.waitKey(3000)\n",
    "\n",
    "    # Count Saved Frames\n",
    "    frame_num = 0 \n",
    "\n",
    "    # independent Counter\n",
    "    n_frames = 0\n",
    "\n",
    "    #Print Current Class\n",
    "    print(_class)\n",
    "\n",
    "    # Loop Untill Save 100 image for each Character\n",
    "    while(frame_num < frames):\n",
    "        \n",
    "\n",
    "        n_frames+=1\n",
    "        # Read feed\n",
    "        ret, frame = cap.read()\n",
    "        \n",
    "        # Flip Image\n",
    "        frame = cv2.flip(frame,1)\n",
    "        \n",
    "        #Copy Org\n",
    "        img = copy.deepcopy(frame)\n",
    "        hands,frame = detector.findHands(frame,draw=True)\n",
    "\n",
    "        # n_frames to Down Speed\n",
    "        if (Record and hands and n_frames%3==0):\n",
    "            # Crop Hand From Image\n",
    "            Hand_Image = Crop_Hands(img,hands)\n",
    "            # if Successfully Cropped, Save it\n",
    "            if(len(Hand_Image) > 0 ):\n",
    "                jpg_path = os.path.join(DATA_PATH, _class,  str(frame_num) + str('.jpg'))\n",
    "                cv2.imwrite(jpg_path,Hand_Image)\n",
    "                frame_num+=1\n",
    "\n",
    "        # Display The Current Class and Frame Counter\n",
    "        frame, _ = cvzone.putTextRect(frame,_class + \": \"+ str(frame_num), [150, 70], 2, 2, offset=5, border=5,colorR=(61,33,21),\n",
    "                                     colorB = (17,163,252))\n",
    "\n",
    "        status = ['Pasued','Recording'][Record]\n",
    "        cv2.putText(frame, status, (100,450), cv2.FONT_HERSHEY_SIMPLEX, 1, (255,255,255))\n",
    "\n",
    "        #Display The Scene\n",
    "        cv2.imshow('frame', frame)\n",
    "        \n",
    "        # To Resume or Start Recording\n",
    "        if cv2.waitKey(10) & 0xFF == ord('s'):\n",
    "            Record = True\n",
    "\n",
    "        # To Pause Recording\n",
    "        if cv2.waitKey(10) & 0xFF == ord('a'):\n",
    "            Record = False\n",
    "\n",
    "        if cv2.waitKey(10) & 0xFF == ord('q'):\n",
    "            break\n",
    "\n",
    "cap.release()\n",
    "cv2.destroyAllWindows()"
   ]
  },
  {
   "cell_type": "code",
   "execution_count": 15,
   "metadata": {},
   "outputs": [],
   "source": [
    "cap.release()\n",
    "cv2.destroyAllWindows()"
   ]
  },
  {
   "cell_type": "code",
   "execution_count": null,
   "metadata": {},
   "outputs": [],
   "source": []
  },
  {
   "cell_type": "code",
   "execution_count": null,
   "metadata": {},
   "outputs": [],
   "source": []
  }
 ],
 "metadata": {
  "interpreter": {
   "hash": "b0ab8c99b4bfaa44da2c5b935dbf33e7e1f6d7633e1a18625ce6d59279f815e1"
  },
  "kernelspec": {
   "display_name": "Python 3.8.5 64-bit ('TF2': conda)",
   "name": "python3"
  },
  "language_info": {
   "codemirror_mode": {
    "name": "ipython",
    "version": 3
   },
   "file_extension": ".py",
   "mimetype": "text/x-python",
   "name": "python",
   "nbconvert_exporter": "python",
   "pygments_lexer": "ipython3",
   "version": "3.8.5"
  }
 },
 "nbformat": 4,
 "nbformat_minor": 4
}
