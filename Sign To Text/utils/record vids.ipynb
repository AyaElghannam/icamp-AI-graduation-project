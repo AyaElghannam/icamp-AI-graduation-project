{
 "cells": [
  {
   "cell_type": "code",
   "execution_count": null,
   "metadata": {},
   "outputs": [],
   "source": [
    "import cv2 \n",
    "\n",
    "# Create a video capture object, in this case we are reading the video from a file\n",
    "vid_capture = cv2.VideoCapture(2)\n",
    "\n",
    "if (vid_capture.isOpened() == False):\n",
    "\tprint(\"Error opening the video file\")\n",
    "# Read fps and frame count\n",
    "else:\n",
    "\t# Get frame rate information\n",
    "\t# You can replace 5 with CAP_PROP_FPS as well, they are enumerations\n",
    "\tfps = vid_capture.get(5)\n",
    "\tprint('Frames per second : ', fps,'FPS')\n",
    "\n",
    "\t# Get frame count\n",
    "\t# You can replace 7 with CAP_PROP_FRAME_COUNT as well, they are enumerations\n",
    "\tframe_count = vid_capture.get(7)\n",
    "\tprint('Frame count : ', frame_count)\n",
    "\n",
    "while(vid_capture.isOpened()):\n",
    "\t# vid_capture.read() methods returns a tuple, first element is a bool \n",
    "\t# and the second is frame\n",
    "\tret, frame = vid_capture.read()\n",
    "\tif ret == True:\n",
    "\t\tcv2.imshow('Frame',frame)\n",
    "\t\t# 20 is in milliseconds, try to increase the value, say 50 and observe\n",
    "\t\tkey = cv2.waitKey(20)\n",
    "\t\t\n",
    "\t\tif key == ord('q'):\n",
    "\t\t\tbreak\n",
    "\telse:\n",
    "\t\tbreak\n",
    "\n",
    "# Release the video capture object\n",
    "vid_capture.release()\n",
    "cv2.destroyAllWindows()"
   ]
  }
 ],
 "metadata": {
  "kernelspec": {
   "display_name": "Python 3.8",
   "language": "python",
   "name": "tf2"
  },
  "language_info": {
   "codemirror_mode": {
    "name": "ipython",
    "version": 3
   },
   "file_extension": ".py",
   "mimetype": "text/x-python",
   "name": "python",
   "nbconvert_exporter": "python",
   "pygments_lexer": "ipython3",
   "version": "3.8.5"
  }
 },
 "nbformat": 4,
 "nbformat_minor": 4
}
